{
  "nbformat": 4,
  "nbformat_minor": 0,
  "metadata": {
    "colab": {
      "provenance": [],
      "collapsed_sections": [
        "N9zIJiW4H7H5",
        "uZoB-Z0cHt7T",
        "Poj6Tn1TtTLb",
        "N9tDog7GIGtC"
      ]
    },
    "kernelspec": {
      "name": "python3",
      "display_name": "Python 3"
    },
    "language_info": {
      "name": "python"
    }
  },
  "cells": [
    {
      "cell_type": "code",
      "source": [
        "!pip install Sastrawi"
      ],
      "metadata": {
        "colab": {
          "base_uri": "https://localhost:8080/"
        },
        "id": "Lr7rVoYjEPbF",
        "outputId": "00162819-3430-4332-db8c-c394e8c70dd7"
      },
      "execution_count": 1,
      "outputs": [
        {
          "output_type": "stream",
          "name": "stdout",
          "text": [
            "Requirement already satisfied: Sastrawi in /usr/local/lib/python3.10/dist-packages (1.0.1)\n"
          ]
        }
      ]
    },
    {
      "cell_type": "code",
      "execution_count": 2,
      "metadata": {
        "id": "It9d4zo3nY-q",
        "colab": {
          "base_uri": "https://localhost:8080/"
        },
        "outputId": "4bf7fa7e-5d76-461e-a608-37d4a1ee276d"
      },
      "outputs": [
        {
          "output_type": "stream",
          "name": "stderr",
          "text": [
            "[nltk_data] Downloading package punkt to /root/nltk_data...\n",
            "[nltk_data]   Package punkt is already up-to-date!\n",
            "[nltk_data] Downloading package stopwords to /root/nltk_data...\n",
            "[nltk_data]   Package stopwords is already up-to-date!\n"
          ]
        }
      ],
      "source": [
        "import pandas as pd\n",
        "import numpy as np\n",
        "import re\n",
        "\n",
        "from transformers import AutoTokenizer,AutoModelForSequenceClassification\n",
        "from transformers import pipeline\n",
        "\n",
        "from Sastrawi.Stemmer.StemmerFactory import StemmerFactory\n",
        "\n",
        "import nltk\n",
        "from nltk.tokenize import word_tokenize\n",
        "from nltk.corpus import stopwords\n",
        "nltk.download('punkt')\n",
        "nltk.download('stopwords')\n",
        "\n",
        "import os\n",
        "import json\n",
        "\n",
        "from sklearn.model_selection import train_test_split\n",
        "from sklearn.feature_extraction.text import CountVectorizer\n",
        "from sklearn.preprocessing import LabelEncoder\n",
        "\n",
        "from sklearn.svm import SVC\n",
        "from sklearn.ensemble import RandomForestClassifier\n",
        "\n",
        "from sklearn.metrics import accuracy_score\n",
        "# from sklearn.metrics import classification_report\n",
        "# from sklearn.metrics import confusion_matrix"
      ]
    },
    {
      "cell_type": "code",
      "source": [
        "df = pd.read_csv(\"perceraian.csv\", delimiter=\";\")\n",
        "df.head()"
      ],
      "metadata": {
        "colab": {
          "base_uri": "https://localhost:8080/",
          "height": 521
        },
        "id": "zbvFJZN9oCA9",
        "outputId": "400f6d77-1bef-4623-add4-b9fe05ce6395"
      },
      "execution_count": 3,
      "outputs": [
        {
          "output_type": "execute_result",
          "data": {
            "text/plain": [
              "                       created_at               id_str  \\\n",
              "0  Wed Dec 13 11:31:41 +0000 2023  1734898883548111067   \n",
              "1  Wed Dec 13 11:20:34 +0000 2023  1734896085653655969   \n",
              "2  Wed Dec 13 10:20:47 +0000 2023  1734881041717088280   \n",
              "3  Wed Dec 13 10:20:16 +0000 2023  1734880912020807779   \n",
              "4  Wed Dec 13 10:11:59 +0000 2023  1734878827430699455   \n",
              "\n",
              "                                           full_text  quote_count  \\\n",
              "0  —   kehidupan pasca perceraian https://t.co/9T...            0   \n",
              "1  @pagibulanjuni Begitulah kehidupan pasca perce...            0   \n",
              "2  @tanyarlfes Polisi Benarkan Ammar Zoni Dtangka...            0   \n",
              "3  @milkywaygyal @18fesss Sekarang kl kasus si se...            0   \n",
              "4  @dacdelions @taebybyby @hayateea11 @jounnast @...            0   \n",
              "\n",
              "   reply_count  retweet_count  favorite_count lang          user_id_str  \\\n",
              "0            0              0               0   in            418543250   \n",
              "1            1              0               0   in  1103686384471048194   \n",
              "2            0              0               0   in  1145131153289908225   \n",
              "3            1              0               0   in             83037325   \n",
              "4            0              0               0   in  1664876228401303554   \n",
              "\n",
              "   conversation_id_str         username  \\\n",
              "0  1673189134960308226         kethatey   \n",
              "1  1734868215703228865     seventhlilac   \n",
              "2  1734845473046032404        diaryCLLe   \n",
              "3  1734874645776806279          bowbows   \n",
              "4  1734791529062101262  aniblogsan52394   \n",
              "\n",
              "                                           tweet_url  \n",
              "0  https://twitter.com/kethatey/status/1734898883...  \n",
              "1  https://twitter.com/seventhlilac/status/173489...  \n",
              "2  https://twitter.com/diaryCLLe/status/173488104...  \n",
              "3  https://twitter.com/bowbows/status/17348809120...  \n",
              "4  https://twitter.com/aniblogsan52394/status/173...  "
            ],
            "text/html": [
              "\n",
              "  <div id=\"df-24d8c7ac-d9b1-4126-9637-6a9f95529c8b\" class=\"colab-df-container\">\n",
              "    <div>\n",
              "<style scoped>\n",
              "    .dataframe tbody tr th:only-of-type {\n",
              "        vertical-align: middle;\n",
              "    }\n",
              "\n",
              "    .dataframe tbody tr th {\n",
              "        vertical-align: top;\n",
              "    }\n",
              "\n",
              "    .dataframe thead th {\n",
              "        text-align: right;\n",
              "    }\n",
              "</style>\n",
              "<table border=\"1\" class=\"dataframe\">\n",
              "  <thead>\n",
              "    <tr style=\"text-align: right;\">\n",
              "      <th></th>\n",
              "      <th>created_at</th>\n",
              "      <th>id_str</th>\n",
              "      <th>full_text</th>\n",
              "      <th>quote_count</th>\n",
              "      <th>reply_count</th>\n",
              "      <th>retweet_count</th>\n",
              "      <th>favorite_count</th>\n",
              "      <th>lang</th>\n",
              "      <th>user_id_str</th>\n",
              "      <th>conversation_id_str</th>\n",
              "      <th>username</th>\n",
              "      <th>tweet_url</th>\n",
              "    </tr>\n",
              "  </thead>\n",
              "  <tbody>\n",
              "    <tr>\n",
              "      <th>0</th>\n",
              "      <td>Wed Dec 13 11:31:41 +0000 2023</td>\n",
              "      <td>1734898883548111067</td>\n",
              "      <td>—   kehidupan pasca perceraian https://t.co/9T...</td>\n",
              "      <td>0</td>\n",
              "      <td>0</td>\n",
              "      <td>0</td>\n",
              "      <td>0</td>\n",
              "      <td>in</td>\n",
              "      <td>418543250</td>\n",
              "      <td>1673189134960308226</td>\n",
              "      <td>kethatey</td>\n",
              "      <td>https://twitter.com/kethatey/status/1734898883...</td>\n",
              "    </tr>\n",
              "    <tr>\n",
              "      <th>1</th>\n",
              "      <td>Wed Dec 13 11:20:34 +0000 2023</td>\n",
              "      <td>1734896085653655969</td>\n",
              "      <td>@pagibulanjuni Begitulah kehidupan pasca perce...</td>\n",
              "      <td>0</td>\n",
              "      <td>1</td>\n",
              "      <td>0</td>\n",
              "      <td>0</td>\n",
              "      <td>in</td>\n",
              "      <td>1103686384471048194</td>\n",
              "      <td>1734868215703228865</td>\n",
              "      <td>seventhlilac</td>\n",
              "      <td>https://twitter.com/seventhlilac/status/173489...</td>\n",
              "    </tr>\n",
              "    <tr>\n",
              "      <th>2</th>\n",
              "      <td>Wed Dec 13 10:20:47 +0000 2023</td>\n",
              "      <td>1734881041717088280</td>\n",
              "      <td>@tanyarlfes Polisi Benarkan Ammar Zoni Dtangka...</td>\n",
              "      <td>0</td>\n",
              "      <td>0</td>\n",
              "      <td>0</td>\n",
              "      <td>0</td>\n",
              "      <td>in</td>\n",
              "      <td>1145131153289908225</td>\n",
              "      <td>1734845473046032404</td>\n",
              "      <td>diaryCLLe</td>\n",
              "      <td>https://twitter.com/diaryCLLe/status/173488104...</td>\n",
              "    </tr>\n",
              "    <tr>\n",
              "      <th>3</th>\n",
              "      <td>Wed Dec 13 10:20:16 +0000 2023</td>\n",
              "      <td>1734880912020807779</td>\n",
              "      <td>@milkywaygyal @18fesss Sekarang kl kasus si se...</td>\n",
              "      <td>0</td>\n",
              "      <td>1</td>\n",
              "      <td>0</td>\n",
              "      <td>0</td>\n",
              "      <td>in</td>\n",
              "      <td>83037325</td>\n",
              "      <td>1734874645776806279</td>\n",
              "      <td>bowbows</td>\n",
              "      <td>https://twitter.com/bowbows/status/17348809120...</td>\n",
              "    </tr>\n",
              "    <tr>\n",
              "      <th>4</th>\n",
              "      <td>Wed Dec 13 10:11:59 +0000 2023</td>\n",
              "      <td>1734878827430699455</td>\n",
              "      <td>@dacdelions @taebybyby @hayateea11 @jounnast @...</td>\n",
              "      <td>0</td>\n",
              "      <td>0</td>\n",
              "      <td>0</td>\n",
              "      <td>0</td>\n",
              "      <td>in</td>\n",
              "      <td>1664876228401303554</td>\n",
              "      <td>1734791529062101262</td>\n",
              "      <td>aniblogsan52394</td>\n",
              "      <td>https://twitter.com/aniblogsan52394/status/173...</td>\n",
              "    </tr>\n",
              "  </tbody>\n",
              "</table>\n",
              "</div>\n",
              "    <div class=\"colab-df-buttons\">\n",
              "\n",
              "  <div class=\"colab-df-container\">\n",
              "    <button class=\"colab-df-convert\" onclick=\"convertToInteractive('df-24d8c7ac-d9b1-4126-9637-6a9f95529c8b')\"\n",
              "            title=\"Convert this dataframe to an interactive table.\"\n",
              "            style=\"display:none;\">\n",
              "\n",
              "  <svg xmlns=\"http://www.w3.org/2000/svg\" height=\"24px\" viewBox=\"0 -960 960 960\">\n",
              "    <path d=\"M120-120v-720h720v720H120Zm60-500h600v-160H180v160Zm220 220h160v-160H400v160Zm0 220h160v-160H400v160ZM180-400h160v-160H180v160Zm440 0h160v-160H620v160ZM180-180h160v-160H180v160Zm440 0h160v-160H620v160Z\"/>\n",
              "  </svg>\n",
              "    </button>\n",
              "\n",
              "  <style>\n",
              "    .colab-df-container {\n",
              "      display:flex;\n",
              "      gap: 12px;\n",
              "    }\n",
              "\n",
              "    .colab-df-convert {\n",
              "      background-color: #E8F0FE;\n",
              "      border: none;\n",
              "      border-radius: 50%;\n",
              "      cursor: pointer;\n",
              "      display: none;\n",
              "      fill: #1967D2;\n",
              "      height: 32px;\n",
              "      padding: 0 0 0 0;\n",
              "      width: 32px;\n",
              "    }\n",
              "\n",
              "    .colab-df-convert:hover {\n",
              "      background-color: #E2EBFA;\n",
              "      box-shadow: 0px 1px 2px rgba(60, 64, 67, 0.3), 0px 1px 3px 1px rgba(60, 64, 67, 0.15);\n",
              "      fill: #174EA6;\n",
              "    }\n",
              "\n",
              "    .colab-df-buttons div {\n",
              "      margin-bottom: 4px;\n",
              "    }\n",
              "\n",
              "    [theme=dark] .colab-df-convert {\n",
              "      background-color: #3B4455;\n",
              "      fill: #D2E3FC;\n",
              "    }\n",
              "\n",
              "    [theme=dark] .colab-df-convert:hover {\n",
              "      background-color: #434B5C;\n",
              "      box-shadow: 0px 1px 3px 1px rgba(0, 0, 0, 0.15);\n",
              "      filter: drop-shadow(0px 1px 2px rgba(0, 0, 0, 0.3));\n",
              "      fill: #FFFFFF;\n",
              "    }\n",
              "  </style>\n",
              "\n",
              "    <script>\n",
              "      const buttonEl =\n",
              "        document.querySelector('#df-24d8c7ac-d9b1-4126-9637-6a9f95529c8b button.colab-df-convert');\n",
              "      buttonEl.style.display =\n",
              "        google.colab.kernel.accessAllowed ? 'block' : 'none';\n",
              "\n",
              "      async function convertToInteractive(key) {\n",
              "        const element = document.querySelector('#df-24d8c7ac-d9b1-4126-9637-6a9f95529c8b');\n",
              "        const dataTable =\n",
              "          await google.colab.kernel.invokeFunction('convertToInteractive',\n",
              "                                                    [key], {});\n",
              "        if (!dataTable) return;\n",
              "\n",
              "        const docLinkHtml = 'Like what you see? Visit the ' +\n",
              "          '<a target=\"_blank\" href=https://colab.research.google.com/notebooks/data_table.ipynb>data table notebook</a>'\n",
              "          + ' to learn more about interactive tables.';\n",
              "        element.innerHTML = '';\n",
              "        dataTable['output_type'] = 'display_data';\n",
              "        await google.colab.output.renderOutput(dataTable, element);\n",
              "        const docLink = document.createElement('div');\n",
              "        docLink.innerHTML = docLinkHtml;\n",
              "        element.appendChild(docLink);\n",
              "      }\n",
              "    </script>\n",
              "  </div>\n",
              "\n",
              "\n",
              "<div id=\"df-211f22de-f6fa-4607-a3e8-8aa413d5b605\">\n",
              "  <button class=\"colab-df-quickchart\" onclick=\"quickchart('df-211f22de-f6fa-4607-a3e8-8aa413d5b605')\"\n",
              "            title=\"Suggest charts\"\n",
              "            style=\"display:none;\">\n",
              "\n",
              "<svg xmlns=\"http://www.w3.org/2000/svg\" height=\"24px\"viewBox=\"0 0 24 24\"\n",
              "     width=\"24px\">\n",
              "    <g>\n",
              "        <path d=\"M19 3H5c-1.1 0-2 .9-2 2v14c0 1.1.9 2 2 2h14c1.1 0 2-.9 2-2V5c0-1.1-.9-2-2-2zM9 17H7v-7h2v7zm4 0h-2V7h2v10zm4 0h-2v-4h2v4z\"/>\n",
              "    </g>\n",
              "</svg>\n",
              "  </button>\n",
              "\n",
              "<style>\n",
              "  .colab-df-quickchart {\n",
              "      --bg-color: #E8F0FE;\n",
              "      --fill-color: #1967D2;\n",
              "      --hover-bg-color: #E2EBFA;\n",
              "      --hover-fill-color: #174EA6;\n",
              "      --disabled-fill-color: #AAA;\n",
              "      --disabled-bg-color: #DDD;\n",
              "  }\n",
              "\n",
              "  [theme=dark] .colab-df-quickchart {\n",
              "      --bg-color: #3B4455;\n",
              "      --fill-color: #D2E3FC;\n",
              "      --hover-bg-color: #434B5C;\n",
              "      --hover-fill-color: #FFFFFF;\n",
              "      --disabled-bg-color: #3B4455;\n",
              "      --disabled-fill-color: #666;\n",
              "  }\n",
              "\n",
              "  .colab-df-quickchart {\n",
              "    background-color: var(--bg-color);\n",
              "    border: none;\n",
              "    border-radius: 50%;\n",
              "    cursor: pointer;\n",
              "    display: none;\n",
              "    fill: var(--fill-color);\n",
              "    height: 32px;\n",
              "    padding: 0;\n",
              "    width: 32px;\n",
              "  }\n",
              "\n",
              "  .colab-df-quickchart:hover {\n",
              "    background-color: var(--hover-bg-color);\n",
              "    box-shadow: 0 1px 2px rgba(60, 64, 67, 0.3), 0 1px 3px 1px rgba(60, 64, 67, 0.15);\n",
              "    fill: var(--button-hover-fill-color);\n",
              "  }\n",
              "\n",
              "  .colab-df-quickchart-complete:disabled,\n",
              "  .colab-df-quickchart-complete:disabled:hover {\n",
              "    background-color: var(--disabled-bg-color);\n",
              "    fill: var(--disabled-fill-color);\n",
              "    box-shadow: none;\n",
              "  }\n",
              "\n",
              "  .colab-df-spinner {\n",
              "    border: 2px solid var(--fill-color);\n",
              "    border-color: transparent;\n",
              "    border-bottom-color: var(--fill-color);\n",
              "    animation:\n",
              "      spin 1s steps(1) infinite;\n",
              "  }\n",
              "\n",
              "  @keyframes spin {\n",
              "    0% {\n",
              "      border-color: transparent;\n",
              "      border-bottom-color: var(--fill-color);\n",
              "      border-left-color: var(--fill-color);\n",
              "    }\n",
              "    20% {\n",
              "      border-color: transparent;\n",
              "      border-left-color: var(--fill-color);\n",
              "      border-top-color: var(--fill-color);\n",
              "    }\n",
              "    30% {\n",
              "      border-color: transparent;\n",
              "      border-left-color: var(--fill-color);\n",
              "      border-top-color: var(--fill-color);\n",
              "      border-right-color: var(--fill-color);\n",
              "    }\n",
              "    40% {\n",
              "      border-color: transparent;\n",
              "      border-right-color: var(--fill-color);\n",
              "      border-top-color: var(--fill-color);\n",
              "    }\n",
              "    60% {\n",
              "      border-color: transparent;\n",
              "      border-right-color: var(--fill-color);\n",
              "    }\n",
              "    80% {\n",
              "      border-color: transparent;\n",
              "      border-right-color: var(--fill-color);\n",
              "      border-bottom-color: var(--fill-color);\n",
              "    }\n",
              "    90% {\n",
              "      border-color: transparent;\n",
              "      border-bottom-color: var(--fill-color);\n",
              "    }\n",
              "  }\n",
              "</style>\n",
              "\n",
              "  <script>\n",
              "    async function quickchart(key) {\n",
              "      const quickchartButtonEl =\n",
              "        document.querySelector('#' + key + ' button');\n",
              "      quickchartButtonEl.disabled = true;  // To prevent multiple clicks.\n",
              "      quickchartButtonEl.classList.add('colab-df-spinner');\n",
              "      try {\n",
              "        const charts = await google.colab.kernel.invokeFunction(\n",
              "            'suggestCharts', [key], {});\n",
              "      } catch (error) {\n",
              "        console.error('Error during call to suggestCharts:', error);\n",
              "      }\n",
              "      quickchartButtonEl.classList.remove('colab-df-spinner');\n",
              "      quickchartButtonEl.classList.add('colab-df-quickchart-complete');\n",
              "    }\n",
              "    (() => {\n",
              "      let quickchartButtonEl =\n",
              "        document.querySelector('#df-211f22de-f6fa-4607-a3e8-8aa413d5b605 button');\n",
              "      quickchartButtonEl.style.display =\n",
              "        google.colab.kernel.accessAllowed ? 'block' : 'none';\n",
              "    })();\n",
              "  </script>\n",
              "</div>\n",
              "    </div>\n",
              "  </div>\n"
            ]
          },
          "metadata": {},
          "execution_count": 3
        }
      ]
    },
    {
      "cell_type": "markdown",
      "source": [
        "## Preprocessing"
      ],
      "metadata": {
        "id": "KCngbVbVoqvc"
      }
    },
    {
      "cell_type": "markdown",
      "source": [
        "### case folding"
      ],
      "metadata": {
        "id": "_b1vLElYottG"
      }
    },
    {
      "cell_type": "code",
      "source": [
        "def case_folding(tweet):\n",
        " # menghapus non-ASCII (emoticon, chinese word, .etc)\n",
        " tweet = re.sub(r'[^\\x00-\\x7F]+',' ', tweet)\n",
        " # merubah ke lowercase\n",
        " tweet = str(tweet).lower()\n",
        " # menghapus tab, new line, dan back slice\n",
        " tweet = tweet.replace('\\\\t',\" \").replace('\\\\n',\" \").replace('\\\\u',\" \").replace('\\\\',\"\")\n",
        " # menghapus mention\n",
        " tweet = re.sub(r'\\@([\\w]+)',' ', tweet)\n",
        " # menghapus link\n",
        " tweet = re.sub(r'http[s]?\\:\\/\\/.[a-zA-Z0-9\\.\\/\\_?=%&#\\-\\+!]+',' ', tweet)\n",
        " tweet = re.sub(r'pic.twitter.com?.[a-zA-Z0-9\\.\\/\\_?=%&#\\-\\+!]+',' ', tweet)\n",
        " # menghapus hashtag\n",
        " tweet = re.sub(r'\\#([\\w]+)',' ', tweet)\n",
        " # menghapus incomplete URL\n",
        " tweet = tweet.replace(\"http://\", \" \").replace(\"https://\", \" \")\n",
        " # menghapus punctuation\n",
        " tweet = re.sub(r'[^\\w\\s]', ' ', tweet)\n",
        " # menghapus semua non char 48\n",
        " tweet = ' '.join((re.sub(r'[^\\w]', ' ', tweet).split()))\n",
        " # menghapus angka\n",
        " tweet = re.sub(r\"\\d+\", \"\",tweet)\n",
        " # menghapus multiple whitespace\n",
        " tweet = re.sub('\\s+',' ',tweet)\n",
        " # menghapus single karakter\n",
        " tweet = re.sub(r\"\\b[a-zA-Z]\\b\", \"\",tweet)\n",
        " #spasi ganda (atau lebih) menjadi satu spasi\n",
        " tweet = re.sub(' +', ' ', tweet)\n",
        " # menghapus whitespace leading & trailing\n",
        " tweet = str(tweet).strip(\" \")\n",
        " # menghapus titik yang berulang\n",
        " tweet = re.sub(r'\\.{2,}', '', tweet)\n",
        "\n",
        " return tweet"
      ],
      "metadata": {
        "id": "BbhvbDyEovqF"
      },
      "execution_count": 4,
      "outputs": []
    },
    {
      "cell_type": "code",
      "source": [
        "df = df.drop([\"created_at\",\"id_str\", \"quote_count\", \"reply_count\", \"retweet_count\", \"favorite_count\", \"lang\", \"user_id_str\", \"conversation_id_str\", \"username\", \"tweet_url\"], axis=1)\n",
        "\n",
        "df[\"clean_text\"] = df[\"full_text\"].apply(case_folding)"
      ],
      "metadata": {
        "id": "3frGicfyowj8"
      },
      "execution_count": 5,
      "outputs": []
    },
    {
      "cell_type": "markdown",
      "source": [
        "### Tokenizing"
      ],
      "metadata": {
        "id": "jke4eN9mo9wI"
      }
    },
    {
      "cell_type": "code",
      "source": [
        "# Tokenize data tweet\n",
        "df['tokenize_text'] = df[\"clean_text\"].apply(word_tokenize)"
      ],
      "metadata": {
        "id": "X0iAVEgPo7ce"
      },
      "execution_count": 6,
      "outputs": []
    },
    {
      "cell_type": "markdown",
      "source": [
        "### Normalization"
      ],
      "metadata": {
        "id": "S3lm_-Q4pUJ7"
      }
    },
    {
      "cell_type": "code",
      "source": [
        "normalization_text = pd.read_csv('colloquial-indonesian-lexicon.csv', delimiter=',')\n",
        "\n",
        "slang_dict = normalization_text.set_index('slang')['formal'].to_dict()"
      ],
      "metadata": {
        "id": "Ki7K9Pj_pRoE"
      },
      "execution_count": 7,
      "outputs": []
    },
    {
      "cell_type": "code",
      "source": [
        "def normalization(document):\n",
        "    new_words = []\n",
        "    for word in document:\n",
        "        if word in slang_dict:\n",
        "            new_words.append(slang_dict[word])\n",
        "        else:\n",
        "            new_words.append(word)\n",
        "    return new_words\n",
        "\n",
        "df[\"normalize_text\"] = df[\"tokenize_text\"].apply(normalization)"
      ],
      "metadata": {
        "id": "uHJ2J2kDpzxD"
      },
      "execution_count": 8,
      "outputs": []
    },
    {
      "cell_type": "markdown",
      "source": [
        "### stopword"
      ],
      "metadata": {
        "id": "DeVCdjwxpqSz"
      }
    },
    {
      "cell_type": "code",
      "source": [
        "list_stopwords = stopwords.words(\"indonesian\")\n",
        "\n",
        "def remove_stopword(words):\n",
        "    new_words = []\n",
        "    for word in words:\n",
        "        if word in list_stopwords:\n",
        "            continue\n",
        "        else:\n",
        "            new_words.append(word)\n",
        "    return new_words\n",
        "\n",
        "df[\"stopword_text\"] = df[\"normalize_text\"].apply(remove_stopword)"
      ],
      "metadata": {
        "id": "EBKZEEvRprs7"
      },
      "execution_count": 9,
      "outputs": []
    },
    {
      "cell_type": "markdown",
      "source": [
        "### Stemming"
      ],
      "metadata": {
        "id": "gqn1NFKoFmxD"
      }
    },
    {
      "cell_type": "code",
      "source": [
        "folder_path = \"./\"  # Ganti dengan path folder yang sesuai\n",
        "\n",
        "file_name = \"term_dict.json\"\n",
        "\n",
        "file_path = os.path.join(folder_path, file_name)\n",
        "\n",
        "if os.path.isfile(file_path):\n",
        "    with open(file_path, 'r') as file:\n",
        "        # Load the JSON data into a dictionary\n",
        "        term_dict = json.load(file)\n",
        "        print(\"term dict sudah ada!\")\n",
        "else:\n",
        "    factory = StemmerFactory()\n",
        "    stemmer = factory.create_stemmer()\n",
        "\n",
        "    # fungsi stemming\n",
        "    def stemming(term):\n",
        "        return factory.create_stemmer().stem(term)\n",
        "\n",
        "    # membuat dictionary dengan key tiap kata yang ada dalam data\n",
        "    term_dict = {}\n",
        "    count = 0\n",
        "    for document in df['stopword_text']:\n",
        "        if(count % 100 == 0):\n",
        "            print(\"data ke-\", count)\n",
        "        for term in document:\n",
        "            if term not in term_dict:\n",
        "                term_dict[term] = stemming(term)\n",
        "        count += 1\n",
        "\n",
        "# fungsi iterasi tiap kata untuk dilakukan stemming\n",
        "def get_stemmed_word_value(words):\n",
        " return [term_dict[term] for term in words]"
      ],
      "metadata": {
        "colab": {
          "base_uri": "https://localhost:8080/"
        },
        "id": "5u4xUGGSp7Tf",
        "outputId": "c2f1f21f-b444-4041-a8cc-22f9bee28e45"
      },
      "execution_count": 10,
      "outputs": [
        {
          "output_type": "stream",
          "name": "stdout",
          "text": [
            "term dict sudah ada!\n"
          ]
        }
      ]
    },
    {
      "cell_type": "code",
      "source": [
        "df[\"stemming_text\"] = df[\"stopword_text\"].apply(get_stemmed_word_value)"
      ],
      "metadata": {
        "id": "4P5YiMyKqBem"
      },
      "execution_count": 11,
      "outputs": []
    },
    {
      "cell_type": "markdown",
      "source": [
        "## labeling"
      ],
      "metadata": {
        "id": "uF5WKuFen-em"
      }
    },
    {
      "cell_type": "code",
      "source": [
        "model_path = \"w11wo/indonesian-roberta-base-sentiment-classifier\"\n",
        "tokenizer = AutoTokenizer.from_pretrained(model_path)\n",
        "model = AutoModelForSequenceClassification.from_pretrained(model_path)\n",
        "\n",
        "# Inisialisasi variabel model\n",
        "analyzer = pipeline('sentiment-analysis', model=model, tokenizer=tokenizer)\n",
        "\n",
        "def analize_tweet_sentiment(tweet):\n",
        " analysis = analyzer(tweet)\n",
        " label_result = analysis[0]['label']\n",
        " return analysis[0]['label']"
      ],
      "metadata": {
        "id": "UgINh5IJnfVt"
      },
      "execution_count": 12,
      "outputs": []
    },
    {
      "cell_type": "code",
      "source": [
        "df[\"sentiment\"] = df[\"normalize_text\"].apply(lambda x: \" \".join(x)).apply(analize_tweet_sentiment)"
      ],
      "metadata": {
        "id": "FvXfdrauqo5e"
      },
      "execution_count": 13,
      "outputs": []
    },
    {
      "cell_type": "markdown",
      "source": [
        "### Result"
      ],
      "metadata": {
        "id": "RXZ7h0F1sMI1"
      }
    },
    {
      "cell_type": "code",
      "source": [
        "data = pd.DataFrame(df[\"stemming_text\"])\n",
        "data[\"sentiment\"] = df[\"sentiment\"]\n",
        "data.head()"
      ],
      "metadata": {
        "colab": {
          "base_uri": "https://localhost:8080/",
          "height": 0
        },
        "id": "Gug7tZTWsPj9",
        "outputId": "7e556c54-91c3-45c1-da86-fa783d1fab96"
      },
      "execution_count": 14,
      "outputs": [
        {
          "output_type": "execute_result",
          "data": {
            "text/plain": [
              "                                       stemming_text sentiment\n",
              "0                              [hidup, pasca, cerai]  positive\n",
              "1                              [hidup, pasca, cerai]  positive\n",
              "2  [polisi, benar, ammar, zoni, dtangkap, kait, n...  negative\n",
              "3  [kalo, sih, sender, rugi, turut, kalo, jalan, ...  negative\n",
              "4  [hak, hidup, manusia, untung, untung, pasang, ...  positive"
            ],
            "text/html": [
              "\n",
              "  <div id=\"df-811c619c-0967-4766-aa4f-7a9549399ff6\" class=\"colab-df-container\">\n",
              "    <div>\n",
              "<style scoped>\n",
              "    .dataframe tbody tr th:only-of-type {\n",
              "        vertical-align: middle;\n",
              "    }\n",
              "\n",
              "    .dataframe tbody tr th {\n",
              "        vertical-align: top;\n",
              "    }\n",
              "\n",
              "    .dataframe thead th {\n",
              "        text-align: right;\n",
              "    }\n",
              "</style>\n",
              "<table border=\"1\" class=\"dataframe\">\n",
              "  <thead>\n",
              "    <tr style=\"text-align: right;\">\n",
              "      <th></th>\n",
              "      <th>stemming_text</th>\n",
              "      <th>sentiment</th>\n",
              "    </tr>\n",
              "  </thead>\n",
              "  <tbody>\n",
              "    <tr>\n",
              "      <th>0</th>\n",
              "      <td>[hidup, pasca, cerai]</td>\n",
              "      <td>positive</td>\n",
              "    </tr>\n",
              "    <tr>\n",
              "      <th>1</th>\n",
              "      <td>[hidup, pasca, cerai]</td>\n",
              "      <td>positive</td>\n",
              "    </tr>\n",
              "    <tr>\n",
              "      <th>2</th>\n",
              "      <td>[polisi, benar, ammar, zoni, dtangkap, kait, n...</td>\n",
              "      <td>negative</td>\n",
              "    </tr>\n",
              "    <tr>\n",
              "      <th>3</th>\n",
              "      <td>[kalo, sih, sender, rugi, turut, kalo, jalan, ...</td>\n",
              "      <td>negative</td>\n",
              "    </tr>\n",
              "    <tr>\n",
              "      <th>4</th>\n",
              "      <td>[hak, hidup, manusia, untung, untung, pasang, ...</td>\n",
              "      <td>positive</td>\n",
              "    </tr>\n",
              "  </tbody>\n",
              "</table>\n",
              "</div>\n",
              "    <div class=\"colab-df-buttons\">\n",
              "\n",
              "  <div class=\"colab-df-container\">\n",
              "    <button class=\"colab-df-convert\" onclick=\"convertToInteractive('df-811c619c-0967-4766-aa4f-7a9549399ff6')\"\n",
              "            title=\"Convert this dataframe to an interactive table.\"\n",
              "            style=\"display:none;\">\n",
              "\n",
              "  <svg xmlns=\"http://www.w3.org/2000/svg\" height=\"24px\" viewBox=\"0 -960 960 960\">\n",
              "    <path d=\"M120-120v-720h720v720H120Zm60-500h600v-160H180v160Zm220 220h160v-160H400v160Zm0 220h160v-160H400v160ZM180-400h160v-160H180v160Zm440 0h160v-160H620v160ZM180-180h160v-160H180v160Zm440 0h160v-160H620v160Z\"/>\n",
              "  </svg>\n",
              "    </button>\n",
              "\n",
              "  <style>\n",
              "    .colab-df-container {\n",
              "      display:flex;\n",
              "      gap: 12px;\n",
              "    }\n",
              "\n",
              "    .colab-df-convert {\n",
              "      background-color: #E8F0FE;\n",
              "      border: none;\n",
              "      border-radius: 50%;\n",
              "      cursor: pointer;\n",
              "      display: none;\n",
              "      fill: #1967D2;\n",
              "      height: 32px;\n",
              "      padding: 0 0 0 0;\n",
              "      width: 32px;\n",
              "    }\n",
              "\n",
              "    .colab-df-convert:hover {\n",
              "      background-color: #E2EBFA;\n",
              "      box-shadow: 0px 1px 2px rgba(60, 64, 67, 0.3), 0px 1px 3px 1px rgba(60, 64, 67, 0.15);\n",
              "      fill: #174EA6;\n",
              "    }\n",
              "\n",
              "    .colab-df-buttons div {\n",
              "      margin-bottom: 4px;\n",
              "    }\n",
              "\n",
              "    [theme=dark] .colab-df-convert {\n",
              "      background-color: #3B4455;\n",
              "      fill: #D2E3FC;\n",
              "    }\n",
              "\n",
              "    [theme=dark] .colab-df-convert:hover {\n",
              "      background-color: #434B5C;\n",
              "      box-shadow: 0px 1px 3px 1px rgba(0, 0, 0, 0.15);\n",
              "      filter: drop-shadow(0px 1px 2px rgba(0, 0, 0, 0.3));\n",
              "      fill: #FFFFFF;\n",
              "    }\n",
              "  </style>\n",
              "\n",
              "    <script>\n",
              "      const buttonEl =\n",
              "        document.querySelector('#df-811c619c-0967-4766-aa4f-7a9549399ff6 button.colab-df-convert');\n",
              "      buttonEl.style.display =\n",
              "        google.colab.kernel.accessAllowed ? 'block' : 'none';\n",
              "\n",
              "      async function convertToInteractive(key) {\n",
              "        const element = document.querySelector('#df-811c619c-0967-4766-aa4f-7a9549399ff6');\n",
              "        const dataTable =\n",
              "          await google.colab.kernel.invokeFunction('convertToInteractive',\n",
              "                                                    [key], {});\n",
              "        if (!dataTable) return;\n",
              "\n",
              "        const docLinkHtml = 'Like what you see? Visit the ' +\n",
              "          '<a target=\"_blank\" href=https://colab.research.google.com/notebooks/data_table.ipynb>data table notebook</a>'\n",
              "          + ' to learn more about interactive tables.';\n",
              "        element.innerHTML = '';\n",
              "        dataTable['output_type'] = 'display_data';\n",
              "        await google.colab.output.renderOutput(dataTable, element);\n",
              "        const docLink = document.createElement('div');\n",
              "        docLink.innerHTML = docLinkHtml;\n",
              "        element.appendChild(docLink);\n",
              "      }\n",
              "    </script>\n",
              "  </div>\n",
              "\n",
              "\n",
              "<div id=\"df-6435144f-5d7d-4d06-8e22-6723953b2e69\">\n",
              "  <button class=\"colab-df-quickchart\" onclick=\"quickchart('df-6435144f-5d7d-4d06-8e22-6723953b2e69')\"\n",
              "            title=\"Suggest charts\"\n",
              "            style=\"display:none;\">\n",
              "\n",
              "<svg xmlns=\"http://www.w3.org/2000/svg\" height=\"24px\"viewBox=\"0 0 24 24\"\n",
              "     width=\"24px\">\n",
              "    <g>\n",
              "        <path d=\"M19 3H5c-1.1 0-2 .9-2 2v14c0 1.1.9 2 2 2h14c1.1 0 2-.9 2-2V5c0-1.1-.9-2-2-2zM9 17H7v-7h2v7zm4 0h-2V7h2v10zm4 0h-2v-4h2v4z\"/>\n",
              "    </g>\n",
              "</svg>\n",
              "  </button>\n",
              "\n",
              "<style>\n",
              "  .colab-df-quickchart {\n",
              "      --bg-color: #E8F0FE;\n",
              "      --fill-color: #1967D2;\n",
              "      --hover-bg-color: #E2EBFA;\n",
              "      --hover-fill-color: #174EA6;\n",
              "      --disabled-fill-color: #AAA;\n",
              "      --disabled-bg-color: #DDD;\n",
              "  }\n",
              "\n",
              "  [theme=dark] .colab-df-quickchart {\n",
              "      --bg-color: #3B4455;\n",
              "      --fill-color: #D2E3FC;\n",
              "      --hover-bg-color: #434B5C;\n",
              "      --hover-fill-color: #FFFFFF;\n",
              "      --disabled-bg-color: #3B4455;\n",
              "      --disabled-fill-color: #666;\n",
              "  }\n",
              "\n",
              "  .colab-df-quickchart {\n",
              "    background-color: var(--bg-color);\n",
              "    border: none;\n",
              "    border-radius: 50%;\n",
              "    cursor: pointer;\n",
              "    display: none;\n",
              "    fill: var(--fill-color);\n",
              "    height: 32px;\n",
              "    padding: 0;\n",
              "    width: 32px;\n",
              "  }\n",
              "\n",
              "  .colab-df-quickchart:hover {\n",
              "    background-color: var(--hover-bg-color);\n",
              "    box-shadow: 0 1px 2px rgba(60, 64, 67, 0.3), 0 1px 3px 1px rgba(60, 64, 67, 0.15);\n",
              "    fill: var(--button-hover-fill-color);\n",
              "  }\n",
              "\n",
              "  .colab-df-quickchart-complete:disabled,\n",
              "  .colab-df-quickchart-complete:disabled:hover {\n",
              "    background-color: var(--disabled-bg-color);\n",
              "    fill: var(--disabled-fill-color);\n",
              "    box-shadow: none;\n",
              "  }\n",
              "\n",
              "  .colab-df-spinner {\n",
              "    border: 2px solid var(--fill-color);\n",
              "    border-color: transparent;\n",
              "    border-bottom-color: var(--fill-color);\n",
              "    animation:\n",
              "      spin 1s steps(1) infinite;\n",
              "  }\n",
              "\n",
              "  @keyframes spin {\n",
              "    0% {\n",
              "      border-color: transparent;\n",
              "      border-bottom-color: var(--fill-color);\n",
              "      border-left-color: var(--fill-color);\n",
              "    }\n",
              "    20% {\n",
              "      border-color: transparent;\n",
              "      border-left-color: var(--fill-color);\n",
              "      border-top-color: var(--fill-color);\n",
              "    }\n",
              "    30% {\n",
              "      border-color: transparent;\n",
              "      border-left-color: var(--fill-color);\n",
              "      border-top-color: var(--fill-color);\n",
              "      border-right-color: var(--fill-color);\n",
              "    }\n",
              "    40% {\n",
              "      border-color: transparent;\n",
              "      border-right-color: var(--fill-color);\n",
              "      border-top-color: var(--fill-color);\n",
              "    }\n",
              "    60% {\n",
              "      border-color: transparent;\n",
              "      border-right-color: var(--fill-color);\n",
              "    }\n",
              "    80% {\n",
              "      border-color: transparent;\n",
              "      border-right-color: var(--fill-color);\n",
              "      border-bottom-color: var(--fill-color);\n",
              "    }\n",
              "    90% {\n",
              "      border-color: transparent;\n",
              "      border-bottom-color: var(--fill-color);\n",
              "    }\n",
              "  }\n",
              "</style>\n",
              "\n",
              "  <script>\n",
              "    async function quickchart(key) {\n",
              "      const quickchartButtonEl =\n",
              "        document.querySelector('#' + key + ' button');\n",
              "      quickchartButtonEl.disabled = true;  // To prevent multiple clicks.\n",
              "      quickchartButtonEl.classList.add('colab-df-spinner');\n",
              "      try {\n",
              "        const charts = await google.colab.kernel.invokeFunction(\n",
              "            'suggestCharts', [key], {});\n",
              "      } catch (error) {\n",
              "        console.error('Error during call to suggestCharts:', error);\n",
              "      }\n",
              "      quickchartButtonEl.classList.remove('colab-df-spinner');\n",
              "      quickchartButtonEl.classList.add('colab-df-quickchart-complete');\n",
              "    }\n",
              "    (() => {\n",
              "      let quickchartButtonEl =\n",
              "        document.querySelector('#df-6435144f-5d7d-4d06-8e22-6723953b2e69 button');\n",
              "      quickchartButtonEl.style.display =\n",
              "        google.colab.kernel.accessAllowed ? 'block' : 'none';\n",
              "    })();\n",
              "  </script>\n",
              "</div>\n",
              "    </div>\n",
              "  </div>\n"
            ]
          },
          "metadata": {},
          "execution_count": 14
        }
      ]
    },
    {
      "cell_type": "markdown",
      "source": [
        "## Word Cloud"
      ],
      "metadata": {
        "id": "9OqBCMt3gWk9"
      }
    },
    {
      "cell_type": "code",
      "source": [
        "def all(array):\n",
        "  bank_words = \"\"\n",
        "  for word in array:\n",
        "      word = str(word)\n",
        "      bank_words += \" \".join(word)\n",
        "  print(bank_words)\n",
        "\n",
        "comment_words = df[\"stemming_text\"].apply(lambda x: \" \".join(x))"
      ],
      "metadata": {
        "id": "IhXymQkzhlRT"
      },
      "execution_count": 16,
      "outputs": []
    },
    {
      "cell_type": "code",
      "source": [
        "bank_words = \"\"\n",
        "np.array(comment_words)\n",
        "\n",
        "for i in range (1513):\n",
        "  bank_words += comment_words[i]+\" \""
      ],
      "metadata": {
        "id": "r9PGH9dCifOG"
      },
      "execution_count": 20,
      "outputs": []
    },
    {
      "cell_type": "code",
      "source": [
        "from wordcloud import WordCloud, STOPWORDS\n",
        "import matplotlib.pyplot as plt\n",
        "from PIL import Image\n",
        "import requests\n",
        "\n",
        "stopwords = set(STOPWORDS)\n",
        "\n",
        "pic = np.array(Image.open(requests.get('http://www.clker.com/cliparts/O/i/x/Y/q/P/yellow-house-hi.png',stream=True).raw))\n",
        "wordcloud = WordCloud(width = 800, height = 800,\n",
        "                background_color ='white',\n",
        "                stopwords = stopwords, mask = pic,\n",
        "                min_font_size = 10)\n",
        "wordcloud.generate(bank_words)\n",
        "\n",
        "plt.figure(figsize = (6, 6), facecolor = 'white', edgecolor='blue')\n",
        "plt.imshow(wordcloud)\n",
        "plt.axis(\"off\")\n",
        "plt.tight_layout(pad = 0)\n",
        "\n",
        "plt.show()"
      ],
      "metadata": {
        "colab": {
          "base_uri": "https://localhost:8080/",
          "height": 602
        },
        "id": "86V3KjmBgZFj",
        "outputId": "f7a7fa67-8403-495b-ae9c-110902ec70b5"
      },
      "execution_count": 21,
      "outputs": [
        {
          "output_type": "display_data",
          "data": {
            "text/plain": [
              "<Figure size 600x600 with 1 Axes>"
            ],
            "image/png": "[encoded data removed]"
          },
          "metadata": {}
        }
      ]
    },
    {
      "cell_type": "markdown",
      "source": [
        "## Model Selection"
      ],
      "metadata": {
        "id": "QevKFZ2cf6O7"
      }
    },
    {
      "cell_type": "markdown",
      "source": [
        "### Separate Feature and Class"
      ],
      "metadata": {
        "id": "N9zIJiW4H7H5"
      }
    },
    {
      "cell_type": "code",
      "source": [
        "# Menghapus data kosong jika ada\n",
        "data = data.dropna()\n",
        "\n",
        "X = data[\"stemming_text\"].apply(lambda x: \" \".join(x))\n",
        "y = data[\"sentiment\"]\n",
        "y.head()"
      ],
      "metadata": {
        "colab": {
          "base_uri": "https://localhost:8080/"
        },
        "id": "5k42azxdH6pE",
        "outputId": "9aa9ca31-fa3b-4342-e949-3dc622eb35ee"
      },
      "execution_count": 15,
      "outputs": [
        {
          "output_type": "execute_result",
          "data": {
            "text/plain": [
              "0    positive\n",
              "1    positive\n",
              "2    negative\n",
              "3    negative\n",
              "4    positive\n",
              "Name: sentiment, dtype: object"
            ]
          },
          "metadata": {},
          "execution_count": 15
        }
      ]
    },
    {
      "cell_type": "markdown",
      "source": [
        "### Label Encoding"
      ],
      "metadata": {
        "id": "uZoB-Z0cHt7T"
      }
    },
    {
      "cell_type": "code",
      "source": [
        "encoder = LabelEncoder()\n",
        "\n",
        "y = encoder.fit_transform(y)\n",
        "print(y[:5])"
      ],
      "metadata": {
        "id": "f3h10sPMt80e",
        "colab": {
          "base_uri": "https://localhost:8080/"
        },
        "outputId": "0d688abe-fc11-4ed4-88d7-e8e0853fd0bd"
      },
      "execution_count": 16,
      "outputs": [
        {
          "output_type": "stream",
          "name": "stdout",
          "text": [
            "[2 2 0 0 2]\n"
          ]
        }
      ]
    },
    {
      "cell_type": "markdown",
      "source": [
        "### Splitting Dataset"
      ],
      "metadata": {
        "id": "Poj6Tn1TtTLb"
      }
    },
    {
      "cell_type": "code",
      "source": [
        "X_train, X_test, y_train, y_test = train_test_split(X, y,test_size=0.3, random_state=42)"
      ],
      "metadata": {
        "id": "K7mIFA3HtVgh"
      },
      "execution_count": 17,
      "outputs": []
    },
    {
      "cell_type": "markdown",
      "source": [
        "### Feature Extraction"
      ],
      "metadata": {
        "id": "N9tDog7GIGtC"
      }
    },
    {
      "cell_type": "code",
      "source": [
        "# Inisialisasi vectorizer\n",
        "countVectorizer = CountVectorizer(binary=True)\n",
        "# Membuat matrix frekuensi kemunculan setiap kata menggunakan vectorizer\n",
        "x_train_vec = countVectorizer.fit_transform(X_train).toarray()\n",
        "x_test_vec = countVectorizer.transform(X_test).toarray()"
      ],
      "metadata": {
        "id": "SZkgug-htVhX"
      },
      "execution_count": 18,
      "outputs": []
    },
    {
      "cell_type": "markdown",
      "source": [
        "### Random Forest"
      ],
      "metadata": {
        "id": "ZCprAEFSud7M"
      }
    },
    {
      "cell_type": "code",
      "source": [
        "rf = RandomForestClassifier(n_estimators=150, criterion=\"entropy\", min_samples_split=7,\n",
        "                            min_samples_leaf=2, random_state=42)"
      ],
      "metadata": {
        "id": "DkY_2bFWuf9J"
      },
      "execution_count": 19,
      "outputs": []
    },
    {
      "cell_type": "code",
      "source": [
        "rf.fit(x_train_vec, y_train)\n",
        "\n",
        "y_predict = rf.predict(x_test_vec)\n",
        "score = accuracy_score(y_test, y_predict)\n",
        "\n",
        "print(\"Random Forest train accuracy: {:.2f} %\".format(rf.score(x_train_vec, y_train)*100))\n",
        "print(\"Random Forest test accuracy: {:.2f} %\".format(score*100))"
      ],
      "metadata": {
        "colab": {
          "base_uri": "https://localhost:8080/"
        },
        "id": "rkdNecV2ukrp",
        "outputId": "d3acf0ff-686b-45e1-8f21-42767450d028"
      },
      "execution_count": 20,
      "outputs": [
        {
          "output_type": "stream",
          "name": "stdout",
          "text": [
            "Random Forest train accuracy: 80.55 %\n",
            "Random Forest test accuracy: 70.26 %\n"
          ]
        }
      ]
    },
    {
      "cell_type": "markdown",
      "source": [
        "## Model Evaluation"
      ],
      "metadata": {
        "id": "JJfmllaiYJIn"
      }
    },
    {
      "cell_type": "markdown",
      "source": [
        "![Confusion-Matrix-3x3 guide.png](data:image/png;base64,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)"
      ],
      "metadata": {
        "id": "VgE5AqtpCkiX"
      }
    },
    {
      "cell_type": "code",
      "source": [
        "import seaborn as sns\n",
        "import matplotlib.pyplot as plt\n",
        "from sklearn.metrics import confusion_matrix\n",
        "\n",
        "cf_matrix = confusion_matrix(y_test, y_predict)\n",
        "\n",
        "classes = ['NEGATIVE', 'NEUTRAL', 'POSITVE']\n",
        "title = 'Analysis Sentiment using Random Forest'\n",
        "\n",
        "# sns.heatmap(cf_matrix/np.sum(cf_matrix), annot=True, fmt='.2%',\n",
        "#             cmap='Blues', xticklabels=classes, yticklabels=classes)\n",
        "sns.heatmap(cf_matrix, annot=True, fmt='d', cmap='Blues', xticklabels=classes, yticklabels=classes)\n",
        "\n",
        "plt.xlabel('Predicted')\n",
        "plt.ylabel('Actual')\n",
        "plt.title(title)\n",
        "plt.show()"
      ],
      "metadata": {
        "colab": {
          "base_uri": "https://localhost:8080/",
          "height": 472
        },
        "id": "V_6-YtwqvX1f",
        "outputId": "34a78f9f-50be-4b39-ce2c-e7f58ec80116"
      },
      "execution_count": 22,
      "outputs": [
        {
          "output_type": "display_data",
          "data": {
            "text/plain": [
              "<Figure size 640x480 with 2 Axes>"
            ],
            "image/png": "[encoded data removed]"
          },
          "metadata": {}
        }
      ]
    },
    {
      "cell_type": "code",
      "source": [
        "# precision, recall, dan f1-score untuk class positive\n",
        "TP = cf_matrix[2][2]\n",
        "FP = cf_matrix[0][2] + cf_matrix[1][2]\n",
        "TN = cf_matrix[0][0] + cf_matrix[0][1] + cf_matrix[1][0] + cf_matrix[1][1]\n",
        "FN = cf_matrix[2][0] + cf_matrix[2][1]\n",
        "\n",
        "precision = TP/(TP+FP)\n",
        "recall = TP/(TP+FN)\n",
        "f1_score = 2 * precision*recall / (precision+recall)\n",
        "\n",
        "print(\"Precision: {:.2f}\".format(precision))\n",
        "print(\"Recall: {:.2f}\".format(recall))\n",
        "print(\"f1-score: {:.2f}\".format(f1_score))"
      ],
      "metadata": {
        "colab": {
          "base_uri": "https://localhost:8080/"
        },
        "id": "r4oHyvRNWOH2",
        "outputId": "7b8590db-7722-46a2-d11f-7893152ad331"
      },
      "execution_count": 23,
      "outputs": [
        {
          "output_type": "stream",
          "name": "stdout",
          "text": [
            "Precision: 1.00\n",
            "Recall: 0.02\n",
            "f1-score: 0.04\n"
          ]
        }
      ]
    },
    {
      "cell_type": "code",
      "source": [
        "from sklearn.metrics import classification_report\n",
        "print(classification_report(y_test, y_predict, target_names=classes))"
      ],
      "metadata": {
        "colab": {
          "base_uri": "https://localhost:8080/"
        },
        "id": "JAO-h7LPbp2q",
        "outputId": "412f97da-6780-4d6a-cacc-82184b153809"
      },
      "execution_count": 24,
      "outputs": [
        {
          "output_type": "stream",
          "name": "stdout",
          "text": [
            "              precision    recall  f1-score   support\n",
            "\n",
            "    NEGATIVE       0.65      0.90      0.76       219\n",
            "     NEUTRAL       0.80      0.66      0.73       181\n",
            "     POSITVE       1.00      0.02      0.04        54\n",
            "\n",
            "    accuracy                           0.70       454\n",
            "   macro avg       0.82      0.53      0.51       454\n",
            "weighted avg       0.75      0.70      0.66       454\n",
            "\n"
          ]
        }
      ]
    },
    {
      "cell_type": "code",
      "source": [
        "df[\"sentiment\"].value_counts()"
      ],
      "metadata": {
        "colab": {
          "base_uri": "https://localhost:8080/"
        },
        "id": "gy-m_v8GMQGZ",
        "outputId": "719b3506-3036-4141-ce23-42fbee0300b8"
      },
      "execution_count": 25,
      "outputs": [
        {
          "output_type": "execute_result",
          "data": {
            "text/plain": [
              "negative    743\n",
              "neutral     578\n",
              "positive    192\n",
              "Name: sentiment, dtype: int64"
            ]
          },
          "metadata": {},
          "execution_count": 25
        }
      ]
    },
    {
      "cell_type": "code",
      "source": [
        "pd.DataFrame(y_train).value_counts()"
      ],
      "metadata": {
        "colab": {
          "base_uri": "https://localhost:8080/"
        },
        "id": "5oDFzHXhMbG6",
        "outputId": "852e8345-25af-4dcb-9239-273e40a6ff47"
      },
      "execution_count": 26,
      "outputs": [
        {
          "output_type": "execute_result",
          "data": {
            "text/plain": [
              "0    524\n",
              "1    397\n",
              "2    138\n",
              "dtype: int64"
            ]
          },
          "metadata": {},
          "execution_count": 26
        }
      ]
    },
    {
      "cell_type": "code",
      "source": [
        "pd.DataFrame(y_test).value_counts()"
      ],
      "metadata": {
        "colab": {
          "base_uri": "https://localhost:8080/"
        },
        "id": "wWiIxse0MpHG",
        "outputId": "8c5ce17f-b35e-45c9-ca1b-abb6408eba5e"
      },
      "execution_count": 27,
      "outputs": [
        {
          "output_type": "execute_result",
          "data": {
            "text/plain": [
              "0    219\n",
              "1    181\n",
              "2     54\n",
              "dtype: int64"
            ]
          },
          "metadata": {},
          "execution_count": 27
        }
      ]
    },
    {
      "cell_type": "code",
      "source": [],
      "metadata": {
        "id": "ID-q4opdNA5m"
      },
      "execution_count": null,
      "outputs": []
    }
  ]
}